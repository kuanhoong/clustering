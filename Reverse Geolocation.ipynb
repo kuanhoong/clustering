{
 "cells": [
  {
   "cell_type": "code",
   "execution_count": 2,
   "metadata": {
    "collapsed": false
   },
   "outputs": [],
   "source": [
    "import numpy as np\n",
    "import pandas as pd\n",
    "import matplotlib.pyplot as plt\n",
    "#from mpl_toolkits.basemap import Basemap\n",
    "from geopy.geocoders import Nominatim\n",
    "geolocator = Nominatim()\n"
   ]
  },
  {
   "cell_type": "code",
   "execution_count": 12,
   "metadata": {
    "collapsed": false
   },
   "outputs": [
    {
     "data": {
      "text/plain": [
       "0             Goulburn Australia\n",
       "1      Goulburn Region Australia\n",
       "2                 Yass Australia\n",
       "3          Yass Region Australia\n",
       "4                Young Australia\n",
       "5         Young Region Australia\n",
       "6            Braidwood Australia\n",
       "7              Karabar Australia\n",
       "8           Queanbeyan Australia\n",
       "9    Queanbeyan - East Australia\n",
       "Name: location, dtype: object"
      ]
     },
     "execution_count": 12,
     "metadata": {},
     "output_type": "execute_result"
    }
   ],
   "source": [
    "#read from file addresss\n",
    "address=pd.read_csv('C:/Users/Kuan/Google Drive/BCP/region_id_location.csv')\n",
    "address=address.iloc[:,1]\n",
    "address"
   ]
  },
  {
   "cell_type": "code",
   "execution_count": 14,
   "metadata": {
    "collapsed": false
   },
   "outputs": [
    {
     "name": "stdout",
     "output_type": "stream",
     "text": [
      "-34.752387 149.7198009\n",
      "-32.2701549 149.76468\n",
      "-34.8362783 148.9156645\n",
      "-35.2493159 149.3331762\n",
      "-34.3103511 148.2971801\n",
      "-24.850631 152.3354415\n",
      "-35.4415873 149.7994179\n",
      "-35.3752777 149.2308333\n",
      "-35.3538855 149.2323111\n",
      "-35.3463888 149.2438889\n"
     ]
    }
   ],
   "source": [
    "geo_loc=pd.DataFrame()\n",
    "loc_lat_long=pd.DataFrame()\n",
    "\n",
    "for i in address.iloc[:]:\n",
    "    try:\n",
    "        loc = geolocator.geocode(i, timeout=30)\n",
    "        print(loc.latitude, loc.longitude)\n",
    "        loc_lat_long=[(loc.latitude, loc.longitude)]\n",
    "        geo_loc=geo_loc.append(loc_lat_long,ignore_index=True)\n",
    "    except:\n",
    "        print(\"NA NA\")\n",
    "        loc_lat_long=[(\"NA\",\"NA\")]\n",
    "        geo_loc=geo_loc.append(loc_lat_long,ignore_index=True)\n",
    "        continue\n"
   ]
  },
  {
   "cell_type": "code",
   "execution_count": 16,
   "metadata": {
    "collapsed": true
   },
   "outputs": [],
   "source": [
    "geo_loc.to_csv('python_geoloc.csv', index=False)"
   ]
  }
 ],
 "metadata": {
  "kernelspec": {
   "display_name": "Python 3",
   "language": "python",
   "name": "python3"
  },
  "language_info": {
   "codemirror_mode": {
    "name": "ipython",
    "version": 3
   },
   "file_extension": ".py",
   "mimetype": "text/x-python",
   "name": "python",
   "nbconvert_exporter": "python",
   "pygments_lexer": "ipython3",
   "version": "3.5.2"
  }
 },
 "nbformat": 4,
 "nbformat_minor": 0
}
